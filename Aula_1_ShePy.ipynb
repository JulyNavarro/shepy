{
  "nbformat": 4,
  "nbformat_minor": 0,
  "metadata": {
    "colab": {
      "name": "Aula 1 - ShePy.ipynb",
      "provenance": [],
      "authorship_tag": "ABX9TyOYDiXWRgO2Ier+CjK0DQ+l",
      "include_colab_link": true
    },
    "kernelspec": {
      "name": "python3",
      "display_name": "Python 3"
    },
    "language_info": {
      "name": "python"
    }
  },
  "cells": [
    {
      "cell_type": "markdown",
      "metadata": {
        "id": "view-in-github",
        "colab_type": "text"
      },
      "source": [
        "<a href=\"https://colab.research.google.com/github/JulyNavarro/shepy/blob/main/Aula_1_ShePy.ipynb\" target=\"_parent\"><img src=\"https://colab.research.google.com/assets/colab-badge.svg\" alt=\"Open In Colab\"/></a>"
      ]
    },
    {
      "cell_type": "markdown",
      "metadata": {
        "id": "DtCrxkq378sO"
      },
      "source": [
        "# Aula 1 - shePy\n",
        "\n",
        "Nessa aula nos iremos *trabalhar com **Python** e realizar operacoes matematicas "
      ]
    },
    {
      "cell_type": "markdown",
      "metadata": {
        "id": "nClRBuCt72jp"
      },
      "source": [
        "## Tipos de dados\n",
        "\n",
        "numericos :\n",
        "- inteiros (**int**)9,7,-4\n",
        "\n",
        "- reais (**float**)3.14, 600.4, 8.9\n",
        "\n",
        "Nao numericos:\n",
        "\n",
        "- Texto/ string (**str**) : 'Python', 'Maria'\n",
        "- logico (**bool**) : True ou False"
      ]
    },
    {
      "cell_type": "markdown",
      "metadata": {
        "id": "cTehX8QO89-t"
      },
      "source": [
        "### Variaveis e identificadores\n",
        "\n",
        "variaveis sao elementos basicos na programacoa que armazenam os dados que precisamos em nosso algoritmo.\n",
        "\n",
        "Toda variavel e caracterizada por um nome (que vai identificar) e por um tipo\n",
        "\n",
        "Um identificador em python pode ter apenas :\n",
        "- letras de A a Z \n",
        "- Digitos de 0 a 9\n",
        "- O simbolo de undescor _\n",
        "\n",
        "Regras \n",
        "\n",
        "Python diferencia letras maiusculas e minusculas "
      ]
    },
    {
      "cell_type": "code",
      "metadata": {
        "colab": {
          "base_uri": "https://localhost:8080/"
        },
        "id": "KyWQX4bi_GjL",
        "outputId": "d6a27f7a-5548-4bbc-afb3-3ebca9f6b93a"
      },
      "source": [
        "nome = 'Maria'\n",
        "print(nome)"
      ],
      "execution_count": null,
      "outputs": [
        {
          "output_type": "stream",
          "text": [
            "Maria\n"
          ],
          "name": "stdout"
        }
      ]
    },
    {
      "cell_type": "code",
      "metadata": {
        "id": "KA48scRgBWjW"
      },
      "source": [
        "idade = 24.0"
      ],
      "execution_count": null,
      "outputs": []
    },
    {
      "cell_type": "code",
      "metadata": {
        "colab": {
          "base_uri": "https://localhost:8080/"
        },
        "id": "4WGIlLLWBe0f",
        "outputId": "82814b0f-2079-4244-b9f6-753b68be1a09"
      },
      "source": [
        "type(idade)"
      ],
      "execution_count": null,
      "outputs": [
        {
          "output_type": "execute_result",
          "data": {
            "text/plain": [
              "float"
            ]
          },
          "metadata": {
            "tags": []
          },
          "execution_count": 5
        }
      ]
    },
    {
      "cell_type": "code",
      "metadata": {
        "colab": {
          "base_uri": "https://localhost:8080/"
        },
        "id": "EbhZUmuaBncC",
        "outputId": "1b7be7a0-3690-40b1-886d-db45f24bf46f"
      },
      "source": [
        "int(idade)"
      ],
      "execution_count": null,
      "outputs": [
        {
          "output_type": "execute_result",
          "data": {
            "text/plain": [
              "24"
            ]
          },
          "metadata": {
            "tags": []
          },
          "execution_count": 6
        }
      ]
    },
    {
      "cell_type": "code",
      "metadata": {
        "colab": {
          "base_uri": "https://localhost:8080/"
        },
        "id": "x2qGW0aMB-jZ",
        "outputId": "adcb85ec-ebc0-47c9-c010-65c241c805c4"
      },
      "source": [
        "print('Hello, word')"
      ],
      "execution_count": null,
      "outputs": [
        {
          "output_type": "stream",
          "text": [
            "Hello, word\n"
          ],
          "name": "stdout"
        }
      ]
    },
    {
      "cell_type": "code",
      "metadata": {
        "colab": {
          "base_uri": "https://localhost:8080/"
        },
        "id": "pgOVNKJECfaO",
        "outputId": "c4d2c830-140c-404c-a9b0-7828ae053354"
      },
      "source": [
        "print(2)"
      ],
      "execution_count": null,
      "outputs": [
        {
          "output_type": "stream",
          "text": [
            "2\n"
          ],
          "name": "stdout"
        }
      ]
    },
    {
      "cell_type": "code",
      "metadata": {
        "colab": {
          "base_uri": "https://localhost:8080/"
        },
        "id": "pBZHbZ-ACj9L",
        "outputId": "36cb70f2-dc21-433d-db37-4d0c660a5191"
      },
      "source": [
        "print('Hello, word')"
      ],
      "execution_count": null,
      "outputs": [
        {
          "output_type": "stream",
          "text": [
            "Hello, word\n"
          ],
          "name": "stdout"
        }
      ]
    },
    {
      "cell_type": "code",
      "metadata": {
        "id": "J9sQspHCC16D"
      },
      "source": [
        "mensagem = 'Hello,word'"
      ],
      "execution_count": null,
      "outputs": []
    },
    {
      "cell_type": "code",
      "metadata": {
        "colab": {
          "base_uri": "https://localhost:8080/"
        },
        "id": "7RSpQFo3DEgS",
        "outputId": "0d465a51-b60a-452d-b606-1dd53ba0c2cf"
      },
      "source": [
        "print(mensagem)"
      ],
      "execution_count": null,
      "outputs": [
        {
          "output_type": "stream",
          "text": [
            "Hello,word\n"
          ],
          "name": "stdout"
        }
      ]
    },
    {
      "cell_type": "code",
      "metadata": {
        "colab": {
          "base_uri": "https://localhost:8080/"
        },
        "id": "SBi4KBx9DGeq",
        "outputId": "d79a4832-cfc0-4407-e052-bf2cfbc63cb9"
      },
      "source": [
        "type(mensagem)"
      ],
      "execution_count": null,
      "outputs": [
        {
          "output_type": "execute_result",
          "data": {
            "text/plain": [
              "str"
            ]
          },
          "metadata": {
            "tags": []
          },
          "execution_count": 12
        }
      ]
    },
    {
      "cell_type": "code",
      "metadata": {
        "colab": {
          "base_uri": "https://localhost:8080/"
        },
        "id": "uPT6TSgxDPRT",
        "outputId": "51d804e1-4835-4d95-f5f1-b5e8b5815818"
      },
      "source": [
        "print(mensagem,'Estou aprendendo a programar')"
      ],
      "execution_count": null,
      "outputs": [
        {
          "output_type": "stream",
          "text": [
            "Hello,word Estou aprendendo a programar\n"
          ],
          "name": "stdout"
        }
      ]
    },
    {
      "cell_type": "code",
      "metadata": {
        "id": "jDlF9HCrDaf0"
      },
      "source": [
        "meu_nome = \"Maria\""
      ],
      "execution_count": null,
      "outputs": []
    },
    {
      "cell_type": "code",
      "metadata": {
        "colab": {
          "base_uri": "https://localhost:8080/"
        },
        "id": "W9CUzsBAD3ED",
        "outputId": "d51956f8-6384-4339-da05-f6b1d2943bd4"
      },
      "source": [
        "print(meu_nome)"
      ],
      "execution_count": null,
      "outputs": [
        {
          "output_type": "stream",
          "text": [
            "Maria\n"
          ],
          "name": "stdout"
        }
      ]
    },
    {
      "cell_type": "code",
      "metadata": {
        "colab": {
          "base_uri": "https://localhost:8080/"
        },
        "id": "fhAHVdMjD5Hu",
        "outputId": "404aeb25-698a-4467-906e-0a21da1e9911"
      },
      "source": [
        "print('Hello,',nome,'!')"
      ],
      "execution_count": null,
      "outputs": [
        {
          "output_type": "stream",
          "text": [
            "Hello, Maria !\n"
          ],
          "name": "stdout"
        }
      ]
    },
    {
      "cell_type": "code",
      "metadata": {
        "id": "mx8S7dVyEOhu"
      },
      "source": [
        "salario = 1245.3"
      ],
      "execution_count": null,
      "outputs": []
    },
    {
      "cell_type": "code",
      "metadata": {
        "colab": {
          "base_uri": "https://localhost:8080/"
        },
        "id": "aUNHP2rGEvRj",
        "outputId": "f67df1ec-16cb-4ff0-86dd-873d7616eaea"
      },
      "source": [
        "type(salario)"
      ],
      "execution_count": null,
      "outputs": [
        {
          "output_type": "execute_result",
          "data": {
            "text/plain": [
              "float"
            ]
          },
          "metadata": {
            "tags": []
          },
          "execution_count": 21
        }
      ]
    },
    {
      "cell_type": "code",
      "metadata": {
        "colab": {
          "base_uri": "https://localhost:8080/"
        },
        "id": "zsIUZkd9Ey_t",
        "outputId": "5aa564f7-235f-4567-c18b-486e7eed06f4"
      },
      "source": [
        "print('O meu salario e', salario)"
      ],
      "execution_count": null,
      "outputs": [
        {
          "output_type": "stream",
          "text": [
            "O meu salario e 1245.3\n"
          ],
          "name": "stdout"
        }
      ]
    },
    {
      "cell_type": "code",
      "metadata": {
        "colab": {
          "base_uri": "https://localhost:8080/"
        },
        "id": "rqLO1e5AFARC",
        "outputId": "102b3a2b-ce3b-48f4-c324-ab0bdda65be8"
      },
      "source": [
        "idade= 22\n",
        "IDADE= 23\n",
        "print(idade,IDADE)"
      ],
      "execution_count": null,
      "outputs": [
        {
          "output_type": "stream",
          "text": [
            "22 23\n"
          ],
          "name": "stdout"
        }
      ]
    },
    {
      "cell_type": "code",
      "metadata": {
        "colab": {
          "base_uri": "https://localhost:8080/"
        },
        "id": "kbWAupPjFkPO",
        "outputId": "7632f3dc-60b0-4204-c74a-5d0ab2f35adb"
      },
      "source": [
        "print('ola, {}'.format(nome))"
      ],
      "execution_count": null,
      "outputs": [
        {
          "output_type": "stream",
          "text": [
            "ola, Maria\n"
          ],
          "name": "stdout"
        }
      ]
    },
    {
      "cell_type": "code",
      "metadata": {
        "id": "baZYGYyTHY6a"
      },
      "source": [
        "nome='July'\n",
        "idade= 35\n",
        "idade_2 = 36"
      ],
      "execution_count": null,
      "outputs": []
    },
    {
      "cell_type": "code",
      "metadata": {
        "colab": {
          "base_uri": "https://localhost:8080/"
        },
        "id": "Hi1FM4TKGKos",
        "outputId": "a31aa732-d2a9-4022-b5cb-e29f3b8e746e"
      },
      "source": [
        "print('O meu nome e {} e eu tenho {} mas ano que vem faco {}'.format(nome,idade,idade_2))"
      ],
      "execution_count": null,
      "outputs": [
        {
          "output_type": "stream",
          "text": [
            "O meu nome e July e eu tenho 35 mas ano que vem faco 36\n"
          ],
          "name": "stdout"
        }
      ]
    },
    {
      "cell_type": "code",
      "metadata": {
        "id": "QJOKz_jTHX_f"
      },
      "source": [
        ""
      ],
      "execution_count": null,
      "outputs": []
    },
    {
      "cell_type": "markdown",
      "metadata": {
        "id": "cMgxwqK7IEEJ"
      },
      "source": [
        "- Nome (str)\n",
        "- Idade (int)\n",
        "- Altura (float)\n",
        "- Estado civil (str)\n",
        "- Numero do sapato (int)\n",
        "- Voce tem CNH (bool)"
      ]
    },
    {
      "cell_type": "code",
      "metadata": {
        "colab": {
          "base_uri": "https://localhost:8080/"
        },
        "id": "DbRg3FFsIaiB",
        "outputId": "c8ef00f7-7367-4822-aff2-c3b05a251346"
      },
      "source": [
        "3+3"
      ],
      "execution_count": null,
      "outputs": [
        {
          "output_type": "execute_result",
          "data": {
            "text/plain": [
              "6"
            ]
          },
          "metadata": {
            "tags": []
          },
          "execution_count": 35
        }
      ]
    },
    {
      "cell_type": "code",
      "metadata": {
        "colab": {
          "base_uri": "https://localhost:8080/"
        },
        "id": "07OlotRvIoVx",
        "outputId": "7221070a-5c61-4f41-cd9d-2b99771969d4"
      },
      "source": [
        "5-7"
      ],
      "execution_count": null,
      "outputs": [
        {
          "output_type": "execute_result",
          "data": {
            "text/plain": [
              "-2"
            ]
          },
          "metadata": {
            "tags": []
          },
          "execution_count": 36
        }
      ]
    },
    {
      "cell_type": "code",
      "metadata": {
        "colab": {
          "base_uri": "https://localhost:8080/"
        },
        "id": "02-MiQt-IqQR",
        "outputId": "df1000c9-bc2a-4a75-95a4-942c48cf042d"
      },
      "source": [
        "3 ** 2\n"
      ],
      "execution_count": null,
      "outputs": [
        {
          "output_type": "execute_result",
          "data": {
            "text/plain": [
              "9"
            ]
          },
          "metadata": {
            "tags": []
          },
          "execution_count": 37
        }
      ]
    },
    {
      "cell_type": "code",
      "metadata": {
        "colab": {
          "base_uri": "https://localhost:8080/"
        },
        "id": "u1Qka6hZI2qh",
        "outputId": "7d81e8e9-1d55-455c-ed27-c5cfae212bce"
      },
      "source": [
        "9**(1/2)"
      ],
      "execution_count": null,
      "outputs": [
        {
          "output_type": "execute_result",
          "data": {
            "text/plain": [
              "3.0"
            ]
          },
          "metadata": {
            "tags": []
          },
          "execution_count": 38
        }
      ]
    },
    {
      "cell_type": "code",
      "metadata": {
        "colab": {
          "base_uri": "https://localhost:8080/"
        },
        "id": "UtUl9cDWI7t_",
        "outputId": "455f0ea3-e2a5-4e4c-cf9c-93ca4a54e4de"
      },
      "source": [
        "9**(0.5)"
      ],
      "execution_count": null,
      "outputs": [
        {
          "output_type": "execute_result",
          "data": {
            "text/plain": [
              "3.0"
            ]
          },
          "metadata": {
            "tags": []
          },
          "execution_count": 39
        }
      ]
    },
    {
      "cell_type": "code",
      "metadata": {
        "colab": {
          "base_uri": "https://localhost:8080/"
        },
        "id": "oXw3JqMbI-tW",
        "outputId": "20f4f31b-7008-412a-ce05-7810e6e8d66e"
      },
      "source": [
        "num1=3\n",
        "num2=5\n",
        "\n",
        "print(num1+num2)\n",
        "print(num2-num1)\n",
        "print(num1*num2)\n",
        "print(num2/num1)\n",
        "print(num2**num1)"
      ],
      "execution_count": null,
      "outputs": [
        {
          "output_type": "stream",
          "text": [
            "8\n",
            "2\n",
            "15\n",
            "1.6666666666666667\n",
            "125\n"
          ],
          "name": "stdout"
        }
      ]
    },
    {
      "cell_type": "code",
      "metadata": {
        "colab": {
          "base_uri": "https://localhost:8080/"
        },
        "id": "diT4esUdJL1g",
        "outputId": "182df1fb-8ce8-4114-ec81-11996c4d3567"
      },
      "source": [
        "num1 = 3\n",
        "num2 = 5\n",
        "soma = num1+num2\n",
        "\n",
        "print('A soma entre {} e {} e :{}'.format(num1,num2,soma))"
      ],
      "execution_count": null,
      "outputs": [
        {
          "output_type": "stream",
          "text": [
            "A soma entre 3 e 5 e :8\n"
          ],
          "name": "stdout"
        }
      ]
    },
    {
      "cell_type": "code",
      "metadata": {
        "colab": {
          "base_uri": "https://localhost:8080/"
        },
        "id": "mkTWek9aKAKM",
        "outputId": "1f59d767-375b-407e-cbce-6f2aac908b94"
      },
      "source": [
        "n1= int(input('Digite um numero: '))\n",
        "n2 = int(input('Digite um segundo numero: '))\n",
        "n3 = int(input('Digite um terceiro numero: '))\n",
        "\n",
        "soma= n1+n2+n3\n",
        "\n",
        "print(soma)"
      ],
      "execution_count": null,
      "outputs": [
        {
          "output_type": "stream",
          "text": [
            "Digite um numero: 4\n",
            "Digite um segundo numero: 4\n",
            "Digite um terceiro numero: 2\n",
            "10\n"
          ],
          "name": "stdout"
        }
      ]
    },
    {
      "cell_type": "code",
      "metadata": {
        "colab": {
          "base_uri": "https://localhost:8080/"
        },
        "id": "tumra4eGKkQP",
        "outputId": "73ae16bb-85ed-4fcc-d206-7cbb66b37b1b"
      },
      "source": [
        "n1= int(input('Digite um numero: '))\n",
        "n2 = int(input('Digite um segundo numero: '))\n",
        "n3 = int(input('Digite um terceiro numero: '))\n",
        "\n",
        "subtracao= n1-n2-n3\n",
        "\n",
        "print(subtracao)"
      ],
      "execution_count": null,
      "outputs": [
        {
          "output_type": "stream",
          "text": [
            "Digite um numero: 5\n",
            "Digite um segundo numero: 4\n",
            "Digite um terceiro numero: 1\n",
            "0\n"
          ],
          "name": "stdout"
        }
      ]
    },
    {
      "cell_type": "code",
      "metadata": {
        "colab": {
          "base_uri": "https://localhost:8080/"
        },
        "id": "vSfcViOyKq_U",
        "outputId": "0fa7ee31-96ef-43a2-ae9f-17211c29f61e"
      },
      "source": [
        "2+3*4/5-6"
      ],
      "execution_count": null,
      "outputs": [
        {
          "output_type": "execute_result",
          "data": {
            "text/plain": [
              "-1.5999999999999996"
            ]
          },
          "metadata": {
            "tags": []
          },
          "execution_count": 50
        }
      ]
    },
    {
      "cell_type": "code",
      "metadata": {
        "colab": {
          "base_uri": "https://localhost:8080/"
        },
        "id": "lEgdPDVFLpz_",
        "outputId": "ef545ef7-5008-49bd-9b32-f1777d17f5ed"
      },
      "source": [
        "(2+3)*4/(5-6)"
      ],
      "execution_count": null,
      "outputs": [
        {
          "output_type": "execute_result",
          "data": {
            "text/plain": [
              "-20.0"
            ]
          },
          "metadata": {
            "tags": []
          },
          "execution_count": 51
        }
      ]
    },
    {
      "cell_type": "code",
      "metadata": {
        "colab": {
          "base_uri": "https://localhost:8080/"
        },
        "id": "ZwIqrYS6L3J2",
        "outputId": "ec3f3bea-3a16-4f99-e406-34444339f640"
      },
      "source": [
        "n1= float(input('Digite um numero: '))\n",
        "n2 = float(input('Digite um segundo numero: '))\n",
        "\n",
        "\n",
        "soma= n1+n2\n",
        "\n",
        "print('A soma entre {} e {} e : {}'.format(n1,n2,soma))\n",
        "\n"
      ],
      "execution_count": null,
      "outputs": [
        {
          "output_type": "stream",
          "text": [
            "Digite um numero: 2.0\n",
            "Digite um segundo numero: 4.5\n",
            "A soma entre 2.0 e 4.5 e : 6.5\n"
          ],
          "name": "stdout"
        }
      ]
    },
    {
      "cell_type": "code",
      "metadata": {
        "colab": {
          "base_uri": "https://localhost:8080/"
        },
        "id": "-CvqAv40NA-a",
        "outputId": "8c26a7d5-8b10-4047-9a3d-443ea5175faf"
      },
      "source": [
        "print('A soma entre {} e {} e : {}'.format(n1,n2,soma))"
      ],
      "execution_count": null,
      "outputs": [
        {
          "output_type": "stream",
          "text": [
            "A soma entre 2.0 e 4.5 e : 6.5\n"
          ],
          "name": "stdout"
        }
      ]
    },
    {
      "cell_type": "code",
      "metadata": {
        "colab": {
          "base_uri": "https://localhost:8080/"
        },
        "id": "AHAfMJszNMuz",
        "outputId": "8363627c-3eea-474e-d510-9790911afaa9"
      },
      "source": [
        "n1 = int(input('Digite um numero: '))\n",
        "\n",
        "antecessor = n1 - 1\n",
        "sucessor = n1 + 1\n",
        "\n",
        "print('O antecessor do numero {} e {} e o sucessor e {}'.format(n1,antecessor, sucessor))"
      ],
      "execution_count": null,
      "outputs": [
        {
          "output_type": "stream",
          "text": [
            "Digite um numero: 2\n",
            "O antecessor do numero 2 e 1 e o sucessor e 3\n"
          ],
          "name": "stdout"
        }
      ]
    },
    {
      "cell_type": "code",
      "metadata": {
        "colab": {
          "base_uri": "https://localhost:8080/",
          "height": 147
        },
        "id": "rpTIDZqXQctk",
        "outputId": "153c10d9-4738-40ed-c874-4672b65668cf"
      },
      "source": [
        "L1= float(input('Digite um numero: '))\n",
        "A2 = float(input('Digite um segundo numero: '))\n",
        "\n",
        "x = L1*A2\n",
        "\n",
        "print(x)\n",
        "\n",
        "tinta = x/2\n",
        "\n",
        "print('A area de {} m2 e a quantidade de tinta e {} litros.'format(x,tinta))"
      ],
      "execution_count": null,
      "outputs": [
        {
          "output_type": "error",
          "ename": "SyntaxError",
          "evalue": "ignored",
          "traceback": [
            "\u001b[0;36m  File \u001b[0;32m\"<ipython-input-65-85d8f6c2542e>\"\u001b[0;36m, line \u001b[0;32m10\u001b[0m\n\u001b[0;31m    print('A area de {} m2 e a quantidade de tinta e {} litros.'format(x,tinta))\u001b[0m\n\u001b[0m                                                                     ^\u001b[0m\n\u001b[0;31mSyntaxError\u001b[0m\u001b[0;31m:\u001b[0m invalid syntax\n"
          ]
        }
      ]
    },
    {
      "cell_type": "code",
      "metadata": {
        "colab": {
          "base_uri": "https://localhost:8080/"
        },
        "id": "5DGfXnFaQ-uK",
        "outputId": "1c208ded-5664-4b82-81ce-ab2390999daa"
      },
      "source": [
        "lagura = float(input('Largura da parede: '))\n",
        "altura = float(input('Altura da parede: '))\n",
        "\n",
        "area = lagura * altura\n",
        "\n",
        "tinta = area / 2\n",
        "\n",
        "print('A área será de {} m² e a quantidade de tinta é de {} litros.'.format(area, tinta))"
      ],
      "execution_count": null,
      "outputs": [
        {
          "output_type": "stream",
          "text": [
            "Largura da parede: 2\n",
            "Altura da parede: 2\n",
            "A área será de 4.0 m² e a quantidade de tinta é de 2.0 litros.\n"
          ],
          "name": "stdout"
        }
      ]
    },
    {
      "cell_type": "code",
      "metadata": {
        "colab": {
          "base_uri": "https://localhost:8080/"
        },
        "id": "pd9GOg_aRFO_",
        "outputId": "9d236f47-026f-47e5-d751-2244c43a7de6"
      },
      "source": [
        "KM = float(input('KM percorrido: '))\n",
        "dias_alugado = int(input('Dias de aluguel: '))\n",
        "\n",
        "area = lagura * altura\n",
        "\n",
        "preco= (KM*0.2)+(dias_alugado* 80)\n",
        "\n",
        "print('O preco a ser pago e {} reais.'.format(preco))"
      ],
      "execution_count": null,
      "outputs": [
        {
          "output_type": "stream",
          "text": [
            "KM percorrido: 100\n",
            "Dias de aluguel: 1\n",
            "O preco a ser pago e 100.0 reais.\n"
          ],
          "name": "stdout"
        }
      ]
    },
    {
      "cell_type": "code",
      "metadata": {
        "id": "LHGBTH4JSS8D"
      },
      "source": [
        ""
      ],
      "execution_count": null,
      "outputs": []
    }
  ]
}